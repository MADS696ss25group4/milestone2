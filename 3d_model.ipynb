{
 "cells": [
  {
   "cell_type": "code",
   "execution_count": 1,
   "id": "ab793fd3",
   "metadata": {},
   "outputs": [],
   "source": [
    "import plotly.graph_objects as go\n",
    "import pandas as pd\n",
    "import numpy as np\n"
   ]
  },
  {
   "cell_type": "code",
   "execution_count": 2,
   "id": "eca968ea",
   "metadata": {},
   "outputs": [],
   "source": [
    "df_results4 = pd.read_csv('df_results4.csv',\n",
    "                          index_col=0)"
   ]
  },
  {
   "cell_type": "code",
   "execution_count": 3,
   "id": "e8cfa733",
   "metadata": {},
   "outputs": [
    {
     "data": {
      "text/html": [
       "<div>\n",
       "<style scoped>\n",
       "    .dataframe tbody tr th:only-of-type {\n",
       "        vertical-align: middle;\n",
       "    }\n",
       "\n",
       "    .dataframe tbody tr th {\n",
       "        vertical-align: top;\n",
       "    }\n",
       "\n",
       "    .dataframe thead th {\n",
       "        text-align: right;\n",
       "    }\n",
       "</style>\n",
       "<table border=\"1\" class=\"dataframe\">\n",
       "  <thead>\n",
       "    <tr style=\"text-align: right;\">\n",
       "      <th></th>\n",
       "      <th>model_features</th>\n",
       "      <th>model_depth</th>\n",
       "      <th>mean_mae</th>\n",
       "      <th>std_mae</th>\n",
       "    </tr>\n",
       "  </thead>\n",
       "  <tbody>\n",
       "    <tr>\n",
       "      <th>0</th>\n",
       "      <td>1</td>\n",
       "      <td>1</td>\n",
       "      <td>309.321503</td>\n",
       "      <td>34.065859</td>\n",
       "    </tr>\n",
       "    <tr>\n",
       "      <th>1</th>\n",
       "      <td>1</td>\n",
       "      <td>2</td>\n",
       "      <td>298.614659</td>\n",
       "      <td>33.050161</td>\n",
       "    </tr>\n",
       "    <tr>\n",
       "      <th>2</th>\n",
       "      <td>1</td>\n",
       "      <td>3</td>\n",
       "      <td>283.938503</td>\n",
       "      <td>29.957919</td>\n",
       "    </tr>\n",
       "    <tr>\n",
       "      <th>3</th>\n",
       "      <td>1</td>\n",
       "      <td>4</td>\n",
       "      <td>264.616536</td>\n",
       "      <td>24.827290</td>\n",
       "    </tr>\n",
       "    <tr>\n",
       "      <th>4</th>\n",
       "      <td>1</td>\n",
       "      <td>5</td>\n",
       "      <td>242.924586</td>\n",
       "      <td>21.141090</td>\n",
       "    </tr>\n",
       "  </tbody>\n",
       "</table>\n",
       "</div>"
      ],
      "text/plain": [
       "   model_features  model_depth    mean_mae    std_mae\n",
       "0               1            1  309.321503  34.065859\n",
       "1               1            2  298.614659  33.050161\n",
       "2               1            3  283.938503  29.957919\n",
       "3               1            4  264.616536  24.827290\n",
       "4               1            5  242.924586  21.141090"
      ]
     },
     "execution_count": 3,
     "metadata": {},
     "output_type": "execute_result"
    }
   ],
   "source": [
    "df_results4.head()"
   ]
  },
  {
   "cell_type": "code",
   "execution_count": 7,
   "id": "c3a8f705",
   "metadata": {},
   "outputs": [],
   "source": [
    "Z_grid = df_results4.pivot_table(index='model_depth', columns='model_features', values='mean_mae').sort_index(ascending=True)\n",
    "x = Z_grid.columns.values\n",
    "y = Z_grid.index.values\n",
    "z = Z_grid.values"
   ]
  },
  {
   "cell_type": "code",
   "execution_count": null,
   "id": "2956d656",
   "metadata": {},
   "outputs": [
    {
     "data": {
      "application/vnd.plotly.v1+json": {
       "config": {
        "plotlyServerURL": "https://plot.ly"
       },
       "data": [
        {
         "type": "surface",
         "x": {
          "bdata": "AQIDBAUGBwgJCgsMDQ4PEBESExQ=",
          "dtype": "i1"
         },
         "y": {
          "bdata": "AQIDBAUGBwgJCgsMDQ4PEBESExQVFhcYGRobHB0e",
          "dtype": "i1"
         },
         "z": {
          "bdata": "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",
          "dtype": "f8",
          "shape": "30, 20"
         }
        }
       ],
       "layout": {
        "autosize": false,
        "height": 500,
        "margin": {
         "b": 65,
         "l": 65,
         "r": 50,
         "t": 90
        },
        "template": {
         "data": {
          "bar": [
           {
            "error_x": {
             "color": "#2a3f5f"
            },
            "error_y": {
             "color": "#2a3f5f"
            },
            "marker": {
             "line": {
              "color": "#E5ECF6",
              "width": 0.5
             },
             "pattern": {
              "fillmode": "overlay",
              "size": 10,
              "solidity": 0.2
             }
            },
            "type": "bar"
           }
          ],
          "barpolar": [
           {
            "marker": {
             "line": {
              "color": "#E5ECF6",
              "width": 0.5
             },
             "pattern": {
              "fillmode": "overlay",
              "size": 10,
              "solidity": 0.2
             }
            },
            "type": "barpolar"
           }
          ],
          "carpet": [
           {
            "aaxis": {
             "endlinecolor": "#2a3f5f",
             "gridcolor": "white",
             "linecolor": "white",
             "minorgridcolor": "white",
             "startlinecolor": "#2a3f5f"
            },
            "baxis": {
             "endlinecolor": "#2a3f5f",
             "gridcolor": "white",
             "linecolor": "white",
             "minorgridcolor": "white",
             "startlinecolor": "#2a3f5f"
            },
            "type": "carpet"
           }
          ],
          "choropleth": [
           {
            "colorbar": {
             "outlinewidth": 0,
             "ticks": ""
            },
            "type": "choropleth"
           }
          ],
          "contour": [
           {
            "colorbar": {
             "outlinewidth": 0,
             "ticks": ""
            },
            "colorscale": [
             [
              0,
              "#0d0887"
             ],
             [
              0.1111111111111111,
              "#46039f"
             ],
             [
              0.2222222222222222,
              "#7201a8"
             ],
             [
              0.3333333333333333,
              "#9c179e"
             ],
             [
              0.4444444444444444,
              "#bd3786"
             ],
             [
              0.5555555555555556,
              "#d8576b"
             ],
             [
              0.6666666666666666,
              "#ed7953"
             ],
             [
              0.7777777777777778,
              "#fb9f3a"
             ],
             [
              0.8888888888888888,
              "#fdca26"
             ],
             [
              1,
              "#f0f921"
             ]
            ],
            "type": "contour"
           }
          ],
          "contourcarpet": [
           {
            "colorbar": {
             "outlinewidth": 0,
             "ticks": ""
            },
            "type": "contourcarpet"
           }
          ],
          "heatmap": [
           {
            "colorbar": {
             "outlinewidth": 0,
             "ticks": ""
            },
            "colorscale": [
             [
              0,
              "#0d0887"
             ],
             [
              0.1111111111111111,
              "#46039f"
             ],
             [
              0.2222222222222222,
              "#7201a8"
             ],
             [
              0.3333333333333333,
              "#9c179e"
             ],
             [
              0.4444444444444444,
              "#bd3786"
             ],
             [
              0.5555555555555556,
              "#d8576b"
             ],
             [
              0.6666666666666666,
              "#ed7953"
             ],
             [
              0.7777777777777778,
              "#fb9f3a"
             ],
             [
              0.8888888888888888,
              "#fdca26"
             ],
             [
              1,
              "#f0f921"
             ]
            ],
            "type": "heatmap"
           }
          ],
          "histogram": [
           {
            "marker": {
             "pattern": {
              "fillmode": "overlay",
              "size": 10,
              "solidity": 0.2
             }
            },
            "type": "histogram"
           }
          ],
          "histogram2d": [
           {
            "colorbar": {
             "outlinewidth": 0,
             "ticks": ""
            },
            "colorscale": [
             [
              0,
              "#0d0887"
             ],
             [
              0.1111111111111111,
              "#46039f"
             ],
             [
              0.2222222222222222,
              "#7201a8"
             ],
             [
              0.3333333333333333,
              "#9c179e"
             ],
             [
              0.4444444444444444,
              "#bd3786"
             ],
             [
              0.5555555555555556,
              "#d8576b"
             ],
             [
              0.6666666666666666,
              "#ed7953"
             ],
             [
              0.7777777777777778,
              "#fb9f3a"
             ],
             [
              0.8888888888888888,
              "#fdca26"
             ],
             [
              1,
              "#f0f921"
             ]
            ],
            "type": "histogram2d"
           }
          ],
          "histogram2dcontour": [
           {
            "colorbar": {
             "outlinewidth": 0,
             "ticks": ""
            },
            "colorscale": [
             [
              0,
              "#0d0887"
             ],
             [
              0.1111111111111111,
              "#46039f"
             ],
             [
              0.2222222222222222,
              "#7201a8"
             ],
             [
              0.3333333333333333,
              "#9c179e"
             ],
             [
              0.4444444444444444,
              "#bd3786"
             ],
             [
              0.5555555555555556,
              "#d8576b"
             ],
             [
              0.6666666666666666,
              "#ed7953"
             ],
             [
              0.7777777777777778,
              "#fb9f3a"
             ],
             [
              0.8888888888888888,
              "#fdca26"
             ],
             [
              1,
              "#f0f921"
             ]
            ],
            "type": "histogram2dcontour"
           }
          ],
          "mesh3d": [
           {
            "colorbar": {
             "outlinewidth": 0,
             "ticks": ""
            },
            "type": "mesh3d"
           }
          ],
          "parcoords": [
           {
            "line": {
             "colorbar": {
              "outlinewidth": 0,
              "ticks": ""
             }
            },
            "type": "parcoords"
           }
          ],
          "pie": [
           {
            "automargin": true,
            "type": "pie"
           }
          ],
          "scatter": [
           {
            "fillpattern": {
             "fillmode": "overlay",
             "size": 10,
             "solidity": 0.2
            },
            "type": "scatter"
           }
          ],
          "scatter3d": [
           {
            "line": {
             "colorbar": {
              "outlinewidth": 0,
              "ticks": ""
             }
            },
            "marker": {
             "colorbar": {
              "outlinewidth": 0,
              "ticks": ""
             }
            },
            "type": "scatter3d"
           }
          ],
          "scattercarpet": [
           {
            "marker": {
             "colorbar": {
              "outlinewidth": 0,
              "ticks": ""
             }
            },
            "type": "scattercarpet"
           }
          ],
          "scattergeo": [
           {
            "marker": {
             "colorbar": {
              "outlinewidth": 0,
              "ticks": ""
             }
            },
            "type": "scattergeo"
           }
          ],
          "scattergl": [
           {
            "marker": {
             "colorbar": {
              "outlinewidth": 0,
              "ticks": ""
             }
            },
            "type": "scattergl"
           }
          ],
          "scattermap": [
           {
            "marker": {
             "colorbar": {
              "outlinewidth": 0,
              "ticks": ""
             }
            },
            "type": "scattermap"
           }
          ],
          "scattermapbox": [
           {
            "marker": {
             "colorbar": {
              "outlinewidth": 0,
              "ticks": ""
             }
            },
            "type": "scattermapbox"
           }
          ],
          "scatterpolar": [
           {
            "marker": {
             "colorbar": {
              "outlinewidth": 0,
              "ticks": ""
             }
            },
            "type": "scatterpolar"
           }
          ],
          "scatterpolargl": [
           {
            "marker": {
             "colorbar": {
              "outlinewidth": 0,
              "ticks": ""
             }
            },
            "type": "scatterpolargl"
           }
          ],
          "scatterternary": [
           {
            "marker": {
             "colorbar": {
              "outlinewidth": 0,
              "ticks": ""
             }
            },
            "type": "scatterternary"
           }
          ],
          "surface": [
           {
            "colorbar": {
             "outlinewidth": 0,
             "ticks": ""
            },
            "colorscale": [
             [
              0,
              "#0d0887"
             ],
             [
              0.1111111111111111,
              "#46039f"
             ],
             [
              0.2222222222222222,
              "#7201a8"
             ],
             [
              0.3333333333333333,
              "#9c179e"
             ],
             [
              0.4444444444444444,
              "#bd3786"
             ],
             [
              0.5555555555555556,
              "#d8576b"
             ],
             [
              0.6666666666666666,
              "#ed7953"
             ],
             [
              0.7777777777777778,
              "#fb9f3a"
             ],
             [
              0.8888888888888888,
              "#fdca26"
             ],
             [
              1,
              "#f0f921"
             ]
            ],
            "type": "surface"
           }
          ],
          "table": [
           {
            "cells": {
             "fill": {
              "color": "#EBF0F8"
             },
             "line": {
              "color": "white"
             }
            },
            "header": {
             "fill": {
              "color": "#C8D4E3"
             },
             "line": {
              "color": "white"
             }
            },
            "type": "table"
           }
          ]
         },
         "layout": {
          "annotationdefaults": {
           "arrowcolor": "#2a3f5f",
           "arrowhead": 0,
           "arrowwidth": 1
          },
          "autotypenumbers": "strict",
          "coloraxis": {
           "colorbar": {
            "outlinewidth": 0,
            "ticks": ""
           }
          },
          "colorscale": {
           "diverging": [
            [
             0,
             "#8e0152"
            ],
            [
             0.1,
             "#c51b7d"
            ],
            [
             0.2,
             "#de77ae"
            ],
            [
             0.3,
             "#f1b6da"
            ],
            [
             0.4,
             "#fde0ef"
            ],
            [
             0.5,
             "#f7f7f7"
            ],
            [
             0.6,
             "#e6f5d0"
            ],
            [
             0.7,
             "#b8e186"
            ],
            [
             0.8,
             "#7fbc41"
            ],
            [
             0.9,
             "#4d9221"
            ],
            [
             1,
             "#276419"
            ]
           ],
           "sequential": [
            [
             0,
             "#0d0887"
            ],
            [
             0.1111111111111111,
             "#46039f"
            ],
            [
             0.2222222222222222,
             "#7201a8"
            ],
            [
             0.3333333333333333,
             "#9c179e"
            ],
            [
             0.4444444444444444,
             "#bd3786"
            ],
            [
             0.5555555555555556,
             "#d8576b"
            ],
            [
             0.6666666666666666,
             "#ed7953"
            ],
            [
             0.7777777777777778,
             "#fb9f3a"
            ],
            [
             0.8888888888888888,
             "#fdca26"
            ],
            [
             1,
             "#f0f921"
            ]
           ],
           "sequentialminus": [
            [
             0,
             "#0d0887"
            ],
            [
             0.1111111111111111,
             "#46039f"
            ],
            [
             0.2222222222222222,
             "#7201a8"
            ],
            [
             0.3333333333333333,
             "#9c179e"
            ],
            [
             0.4444444444444444,
             "#bd3786"
            ],
            [
             0.5555555555555556,
             "#d8576b"
            ],
            [
             0.6666666666666666,
             "#ed7953"
            ],
            [
             0.7777777777777778,
             "#fb9f3a"
            ],
            [
             0.8888888888888888,
             "#fdca26"
            ],
            [
             1,
             "#f0f921"
            ]
           ]
          },
          "colorway": [
           "#636efa",
           "#EF553B",
           "#00cc96",
           "#ab63fa",
           "#FFA15A",
           "#19d3f3",
           "#FF6692",
           "#B6E880",
           "#FF97FF",
           "#FECB52"
          ],
          "font": {
           "color": "#2a3f5f"
          },
          "geo": {
           "bgcolor": "white",
           "lakecolor": "white",
           "landcolor": "#E5ECF6",
           "showlakes": true,
           "showland": true,
           "subunitcolor": "white"
          },
          "hoverlabel": {
           "align": "left"
          },
          "hovermode": "closest",
          "mapbox": {
           "style": "light"
          },
          "paper_bgcolor": "white",
          "plot_bgcolor": "#E5ECF6",
          "polar": {
           "angularaxis": {
            "gridcolor": "white",
            "linecolor": "white",
            "ticks": ""
           },
           "bgcolor": "#E5ECF6",
           "radialaxis": {
            "gridcolor": "white",
            "linecolor": "white",
            "ticks": ""
           }
          },
          "scene": {
           "xaxis": {
            "backgroundcolor": "#E5ECF6",
            "gridcolor": "white",
            "gridwidth": 2,
            "linecolor": "white",
            "showbackground": true,
            "ticks": "",
            "zerolinecolor": "white"
           },
           "yaxis": {
            "backgroundcolor": "#E5ECF6",
            "gridcolor": "white",
            "gridwidth": 2,
            "linecolor": "white",
            "showbackground": true,
            "ticks": "",
            "zerolinecolor": "white"
           },
           "zaxis": {
            "backgroundcolor": "#E5ECF6",
            "gridcolor": "white",
            "gridwidth": 2,
            "linecolor": "white",
            "showbackground": true,
            "ticks": "",
            "zerolinecolor": "white"
           }
          },
          "shapedefaults": {
           "line": {
            "color": "#2a3f5f"
           }
          },
          "ternary": {
           "aaxis": {
            "gridcolor": "white",
            "linecolor": "white",
            "ticks": ""
           },
           "baxis": {
            "gridcolor": "white",
            "linecolor": "white",
            "ticks": ""
           },
           "bgcolor": "#E5ECF6",
           "caxis": {
            "gridcolor": "white",
            "linecolor": "white",
            "ticks": ""
           }
          },
          "title": {
           "x": 0.05
          },
          "xaxis": {
           "automargin": true,
           "gridcolor": "white",
           "linecolor": "white",
           "ticks": "",
           "title": {
            "standoff": 15
           },
           "zerolinecolor": "white",
           "zerolinewidth": 2
          },
          "yaxis": {
           "automargin": true,
           "gridcolor": "white",
           "linecolor": "white",
           "ticks": "",
           "title": {
            "standoff": 15
           },
           "zerolinecolor": "white",
           "zerolinewidth": 2
          }
         }
        },
        "title": {
         "text": "Mt Bruno Elevation"
        },
        "width": 500
       }
      }
     },
     "metadata": {},
     "output_type": "display_data"
    }
   ],
   "source": [
    "fig = go.Figure(data=[go.Surface(z=z, x=x, y=y)])\n",
    "fig.update_layout(title=dict(text='Mt Bruno Elevation'), \n",
    "                  autosize=False,\n",
    "                  width=500, \n",
    "                  height=500,\n",
    "                  margin=dict(l=65, r=50, b=65, t=90),\n",
    "                  scene=dict(\n",
    "                      xaxis_title = 'Number of features',\n",
    "                      yaxis_title = 'Number of levels'\n",
    "                      zaxis_title = 'Mean MAE'\n",
    "                  )\n",
    "                  )\n",
    "fig.show()"
   ]
  },
  {
   "cell_type": "code",
   "execution_count": null,
   "id": "1d70231f",
   "metadata": {},
   "outputs": [],
   "source": []
  }
 ],
 "metadata": {
  "kernelspec": {
   "display_name": "milestone2",
   "language": "python",
   "name": "python3"
  },
  "language_info": {
   "codemirror_mode": {
    "name": "ipython",
    "version": 3
   },
   "file_extension": ".py",
   "mimetype": "text/x-python",
   "name": "python",
   "nbconvert_exporter": "python",
   "pygments_lexer": "ipython3",
   "version": "3.13.2"
  }
 },
 "nbformat": 4,
 "nbformat_minor": 5
}
